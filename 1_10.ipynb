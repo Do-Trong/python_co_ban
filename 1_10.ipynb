{
 "cells": [
  {
   "cell_type": "markdown",
   "metadata": {},
   "source": [
    "1, Tìm số chia hết cho 7 nhưng ko chia hết cho 5 trong khoảng [n, m]"
   ]
  },
  {
   "cell_type": "code",
   "execution_count": 10,
   "metadata": {},
   "outputs": [
    {
     "name": "stdout",
     "output_type": "stream",
     "text": [
      "[98, 112, 119, 126, 133, 147, 154, 161, 168, 182, 189, 196, 203, 217, 224, 231, 238, 252, 259, 266, 273, 287, 294, 301, 308, 322, 329, 336, 343, 357, 364, 371, 378, 392, 399, 406, 413, 427, 434, 441, 448, 462, 469, 476, 483, 497, 504, 511, 518, 532, 539, 546, 553, 567, 574, 581, 588, 602, 609, 616, 623, 637, 644, 651, 658, 672, 679, 686, 693, 707, 714, 721, 728, 742, 749, 756, 763, 777, 784, 791, 798, 812, 819, 826, 833, 847, 854, 861, 868, 882, 889, 896, 903, 917, 924, 931, 938, 952, 959, 966, 973, 987, 994]\n"
     ]
    }
   ],
   "source": [
    "n = 100\n",
    "m = 1000\n",
    "lst = []\n",
    "for i in range(int(n/7), int(m/7)+ 1):\n",
    "    if((i*7)%5 != 0):\n",
    "        lst.append(i*7)\n",
    "print(lst)"
   ]
  },
  {
   "cell_type": "markdown",
   "metadata": {},
   "source": [
    "2, Tìm giai thừa của số N _ (đệ quy)"
   ]
  },
  {
   "cell_type": "code",
   "execution_count": 9,
   "metadata": {},
   "outputs": [
    {
     "name": "stdout",
     "output_type": "stream",
     "text": [
      "Factorial of 8  =  40320\n"
     ]
    }
   ],
   "source": [
    "N = 8\n",
    "\n",
    "def factorial(n):\n",
    "    if(n == 0):\n",
    "        return 1\n",
    "    return n*factorial(n-1)\n",
    "\n",
    "print(\"Factorial of\", N, \" = \",factorial(N))"
   ]
  },
  {
   "cell_type": "markdown",
   "metadata": {},
   "source": [
    "3, Cho số nguyên N, tạo dictinary có dạng (i, i^2) với i = (1, N)\n"
   ]
  },
  {
   "cell_type": "code",
   "execution_count": 13,
   "metadata": {},
   "outputs": [
    {
     "name": "stdout",
     "output_type": "stream",
     "text": [
      "5\n",
      "{1: 1, 2: 4, 3: 9, 4: 16, 5: 25}\n"
     ]
    }
   ],
   "source": [
    "N=int(input())\n",
    "dic = dict()\n",
    "for i in range(1,N+1):\n",
    "    dic[i] = i**2\n",
    "print(dic)"
   ]
  },
  {
   "cell_type": "markdown",
   "metadata": {},
   "source": [
    "4, cho một dãy cố, xuất dãy đó dưới 2 kiểu \"list\" và \"tuple\""
   ]
  },
  {
   "cell_type": "code",
   "execution_count": 15,
   "metadata": {},
   "outputs": [
    {
     "name": "stdout",
     "output_type": "stream",
     "text": [
      "234,34,34,34,34,34,4\n",
      "['234', '34', '34', '34', '34', '34', '4']\n",
      "('234', '34', '34', '34', '34', '34', '4')\n"
     ]
    }
   ],
   "source": [
    "val = input()\n",
    "lst = val.split(',')\n",
    "print(lst)\n",
    "tup = tuple(lst)\n",
    "print(tup)\n"
   ]
  },
  {
   "cell_type": "markdown",
   "metadata": {},
   "source": [
    "5, Cho dãy số N có dạng a,b,c,... xuất ra dãy tương ứng được tính theo công thức\n",
    "Q = sqrt(2*i*D/H) trong dó D, H cho trước, i là số tương ứng trong dãy\n"
   ]
  },
  {
   "cell_type": "code",
   "execution_count": 22,
   "metadata": {},
   "outputs": [
    {
     "name": "stdout",
     "output_type": "stream",
     "text": [
      "23,2,323,23,2\n",
      "[7, 2, 29, 7, 2]\n"
     ]
    }
   ],
   "source": [
    "import math\n",
    "D = 29\n",
    "H = 21\n",
    "val = input()\n",
    "lst = val.split(',')\n",
    "result = []\n",
    "for i in lst:\n",
    "    result.append(int(math.sqrt(2*int(i)*D/H)))\n",
    "print(result)"
   ]
  },
  {
   "cell_type": "code",
   "execution_count": null,
   "metadata": {},
   "outputs": [],
   "source": []
  }
 ],
 "metadata": {
  "kernelspec": {
   "display_name": "Python 3",
   "language": "python",
   "name": "python3"
  },
  "language_info": {
   "codemirror_mode": {
    "name": "ipython",
    "version": 3
   },
   "file_extension": ".py",
   "mimetype": "text/x-python",
   "name": "python",
   "nbconvert_exporter": "python",
   "pygments_lexer": "ipython3",
   "version": "3.7.0"
  }
 },
 "nbformat": 4,
 "nbformat_minor": 4
}
